{
 "cells": [
  {
   "cell_type": "code",
   "execution_count": null,
   "metadata": {},
   "outputs": [],
   "source": [
    "import os\n",
    "import matplotlib.pyplot as plt\n",
    "from scipy import misc\n",
    "from scipy.ndimage import rotate\n",
    "from PIL import Image\n",
    "import pandas as pd\n",
    "import numpy as np\n",
    "import cv2\n",
    "#convert train jpg to png and save to the new directory\n",
    "os.makedirs('/train_pngs')\n",
    "for filename in os.listdir('baseline_NTA/data/train/images/'):\n",
    "    image = Image.open('baseline_NTA/data/train/images/'+filename)\n",
    "    image.save('/train_pngs/'+filename[:-4]+'.png', \"PNG\")"
   ]
  },
  {
   "cell_type": "code",
   "execution_count": null,
   "metadata": {},
   "outputs": [],
   "source": [
    "#convert test jpg to png and save to the new directory\n",
    "os.makedirs('/test_pngs')\n",
    "for filename in os.listdir('baseline_NTA/data/test/images/'):\n",
    "    image = Image.open('baseline_NTA/data/test/images/'+filename)\n",
    "    image.save('/test_pngs/'+filename[:-4]+'.png', \"PNG\")"
   ]
  },
  {
   "cell_type": "code",
   "execution_count": null,
   "metadata": {},
   "outputs": [],
   "source": [
    "#function to rotate images and landmarks\n",
    "def rot(image, xy, angle):\n",
    "    im_rot = rotate(image,angle) \n",
    "    org_center = (np.array(image.shape[:2][::-1])-1)/2.\n",
    "    rot_center = (np.array(im_rot.shape[:2][::-1])-1)/2.\n",
    "    new = []\n",
    "    xy = xy.values.reshape(194,2)\n",
    "    for l in xy:\n",
    "        org = l-org_center\n",
    "        a = np.deg2rad(angle)\n",
    "        n = np.array([org[0]*np.cos(a) + org[1]*np.sin(a),\n",
    "                        -org[0]*np.sin(a) + org[1]*np.cos(a) ])\n",
    "        new.append(n)\n",
    "    return im_rot, (new+rot_center).ravel()"
   ]
  },
  {
   "cell_type": "code",
   "execution_count": null,
   "metadata": {},
   "outputs": [],
   "source": [
    "landmarks.loc[2000]=0"
   ]
  },
  {
   "cell_type": "code",
   "execution_count": null,
   "metadata": {},
   "outputs": [],
   "source": [
    "landmarks.tail()"
   ]
  },
  {
   "cell_type": "code",
   "execution_count": null,
   "metadata": {},
   "outputs": [],
   "source": [
    "#rotate imgs and landmarks and save them\n",
    "landmarks = pd.read_csv('baseline_NTA/data/train/landmarks.csv')\n",
    "for i in np.arange(landmarks.shape[0]):\n",
    "    if i<500:\n",
    "        angle = 15\n",
    "        name = '_rotated_plus15'\n",
    "    elif i>501&i<1000:\n",
    "        angle = -15\n",
    "        name = '_rotated_minus15'\n",
    "    elif i>1001&i<1500:\n",
    "        angle = 30\n",
    "        name = '_rotated_plus30'\n",
    "    elif i>1501&i<2000:\n",
    "        angle = -30\n",
    "        name = '_rotated_minus30'\n",
    "        \n",
    "    f = landmarks['filename'].iloc[i]\n",
    "    print(f)\n",
    "    ldm = landmarks.iloc[i, 1:]\n",
    "    img = cv2.imread('train_pngs/'+f[:-4]+'.png')\n",
    "    rotated_img, rotated_ldm = rot(img, ldm, angle)\n",
    "    im = Image.fromarray(rotated_img)\n",
    "    im.save('train_pngs/'+f[:-4]+name+'.png', \"PNG\")\n",
    "    landmarks.loc[2000+i] = 0\n",
    "    landmarks.iloc[2000+i,0] = f[:-4]+name+'.png'\n",
    "    landmarks.iloc[2000+i,1:] = rotated_ldm"
   ]
  },
  {
   "cell_type": "code",
   "execution_count": null,
   "metadata": {},
   "outputs": [],
   "source": [
    "landmarks.to_csv('landmarks_aug_15_30.csv')"
   ]
  },
  {
   "cell_type": "code",
   "execution_count": null,
   "metadata": {},
   "outputs": [],
   "source": []
  }
 ],
 "metadata": {
  "kernelspec": {
   "display_name": "Python 3",
   "language": "python",
   "name": "python3"
  },
  "language_info": {
   "codemirror_mode": {
    "name": "ipython",
    "version": 3
   },
   "file_extension": ".py",
   "mimetype": "text/x-python",
   "name": "python",
   "nbconvert_exporter": "python",
   "pygments_lexer": "ipython3",
   "version": "3.7.4"
  }
 },
 "nbformat": 4,
 "nbformat_minor": 4
}
